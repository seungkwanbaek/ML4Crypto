{
 "cells": [
  {
   "cell_type": "code",
   "execution_count": 1,
   "metadata": {
    "collapsed": true
   },
   "outputs": [],
   "source": [
    "import math\n",
    "import pandas as pd\n",
    "import numpy as np\n",
    "import matplotlib.pyplot as plt\n",
    "import RTLearner as rt\n",
    "import DTLearner as dt\n",
    "import BagLearner as bl\n",
    "import LinRegLearner as lr\n",
    "%matplotlib inline  "
   ]
  },
  {
   "cell_type": "code",
   "execution_count": 2,
   "metadata": {
    "collapsed": true
   },
   "outputs": [],
   "source": [
    "data=pd.read_csv('Data/Istanbul.csv')\n",
    "data=data.drop(data.columns[0], axis=1)\n",
    "data=np.array(data, dtype=np.float32)\n",
    "\n",
    "traintestsplit=math.floor(data.shape[0]*0.6)\n",
    "\n",
    "np.random.shuffle(data)\n",
    "training, test = data[:traintestsplit,:], data[traintestsplit:,:]\n",
    "\n",
    "trainX=training[:,:-1]\n",
    "trainY=training[:,-1]\n",
    "\n",
    "testX = test[:,:-1]\n",
    "testY = test[:,-1]"
   ]
  },
  {
   "cell_type": "code",
   "execution_count": 10,
   "metadata": {
    "collapsed": true
   },
   "outputs": [],
   "source": [
    "leaves=(range(80))"
   ]
  },
  {
   "cell_type": "code",
   "execution_count": 44,
   "metadata": {
    "collapsed": false
   },
   "outputs": [],
   "source": [
    "i=0\n",
    "in_first_RMSE=np.ones(len(leaves))\n",
    "out_first_RMSE=np.ones(len(leaves))\n",
    "\n",
    "for leaf_size in leaves:\n",
    "    first_learner = dt.DTLearner(leaf_size=leaf_size, verbose = False)\n",
    "    first_learner.addEvidence(trainX, trainY)\n",
    "    Y_preds_in = first_learner.query(trainX)\n",
    "    Y_preds_out = first_learner.query(testX)\n",
    "    in_first_RMSE[i] = math.sqrt(((trainY - Y_preds_in) ** 2).mean())\n",
    "    out_first_RMSE[i] = math.sqrt(((testY - Y_preds_out) ** 2).mean())\n",
    "    i+=1"
   ]
  },
  {
   "cell_type": "code",
   "execution_count": 49,
   "metadata": {
    "collapsed": false
   },
   "outputs": [
    {
     "data": {
      "image/png": "[encoded data removed]",
      "text/plain": [
       "<matplotlib.figure.Figure at 0x10a1e7290>"
      ]
     },
     "metadata": {},
     "output_type": "display_data"
    }
   ],
   "source": [
    "plt.plot(leaves, in_first_RMSE,  label='In-Sample')\n",
    "plt.plot(leaves, out_first_RMSE,  label='Out-Sample')\n",
    "plt.title(\"Assessing Overfitting with DTLearners\")\n",
    "plt.ylabel('RMSE')\n",
    "plt.xlabel('Leaf Size')\n",
    "plt.legend(loc=\"lower right\")\n",
    "plt.show()"
   ]
  },
  {
   "cell_type": "code",
   "execution_count": 38,
   "metadata": {
    "collapsed": false
   },
   "outputs": [],
   "source": [
    "df0=pd.DataFrame(leaves, columns=['Leaf_size'])\n",
    "df1=pd.DataFrame(in_first_RMSE, columns=['In-Sample RMSE'])\n",
    "df2=pd.DataFrame(out_first_RMSE, columns=['Out-Sample RMSE'])\n",
    "frames=[df0, df1,df2]\n",
    "result=pd.concat(frames, axis=1)"
   ]
  },
  {
   "cell_type": "markdown",
   "metadata": {},
   "source": [
    "In the dataset Istanbul.csv with DTLearner, overfitting occurs when the leaf_size increases after leaf size is set to 9. The dataset was randomly shuffled and split into Training and Testing sets. After training the learner on the training sets, I ran the learner on the training set (in-sample) and on the test set (out-of-sample). \n",
    "\n",
    "To determine where the learner overfits, I used Root Mean Square Error (RMSE) as a metric. Looking at chart and the table, it's clear that In-Sample RMSE is strictly increasing, and it makes sense. A leaf size of 1 for In-Sample RMSE is very close to 0 (0.000380) because the data is very well-fit. As the leaf_size increases, the model becomes more generic and not as precise when fitting the data.  \n",
    "\n",
    "For the Out-of-Sample trained learner, leaf_size of 1 does not yield a good fit, because the model was built on the train set. As the leaf_size increases, its RMSE decreases, meaning the trainer fits better. \n",
    "\n",
    "After a certain point (when leaf_size=9), RMSE for both in-sample and out-of-sample learners increase becasue as leaf_size gets bigger, the model becomes generic. \n",
    "\n",
    "Overfitting would occur when the In-Sample RMSE is decreasing and the Out-of-sample RMSE is increasing. "
   ]
  },
  {
   "cell_type": "code",
   "execution_count": 39,
   "metadata": {
    "collapsed": false
   },
   "outputs": [
    {
     "name": "stdout",
     "output_type": "stream",
     "text": [
      "    Leaf_size  In-Sample RMSE  Out-Sample RMSE\n",
      "0           0        0.000380         0.007637\n",
      "1           1        0.000380         0.007637\n",
      "2           2        0.002418         0.007232\n",
      "3           3        0.003177         0.007092\n",
      "4           4        0.003226         0.007073\n",
      "5           5        0.004298         0.007098\n",
      "6           6        0.004526         0.006930\n",
      "7           7        0.004526         0.006930\n",
      "8           8        0.004526         0.006930\n",
      "9           9        0.004576         0.006926\n",
      "10         10        0.005333         0.007096\n",
      "11         11        0.005504         0.006963\n",
      "12         12        0.005504         0.006963\n",
      "13         13        0.005504         0.006963\n",
      "14         14        0.005504         0.006963\n",
      "15         15        0.005504         0.006963\n",
      "16         16        0.005504         0.006963\n",
      "17         17        0.005504         0.006963\n",
      "18         18        0.005519         0.006996\n",
      "19         19        0.005519         0.006996\n",
      "20         20        0.006177         0.007002\n",
      "21         21        0.006299         0.007118\n",
      "22         22        0.006323         0.007130\n",
      "23         23        0.006323         0.007130\n",
      "24         24        0.006323         0.007130\n",
      "25         25        0.006323         0.007130\n",
      "26         26        0.006323         0.007130\n",
      "27         27        0.006323         0.007130\n",
      "28         28        0.006323         0.007130\n",
      "29         29        0.006323         0.007130\n"
     ]
    }
   ],
   "source": [
    "print result[:30]"
   ]
  },
  {
   "cell_type": "code",
   "execution_count": 33,
   "metadata": {
    "collapsed": true
   },
   "outputs": [],
   "source": [
    "in_second_RMSE=np.ones(len(leaves))\n",
    "out_second_RMSE=np.ones(len(leaves))\n",
    "\n",
    "j=0\n",
    "\n",
    "for leaf_size in leaves:\n",
    "    second_learner=bl.BagLearner(learner=dt.DTLearner, kwargs={\"leaf_size\" :leaf_size, \"verbose\": False}, bags=20, boost=False, verbose=False)\n",
    "    second_learner.addEvidence(trainX, trainY)\n",
    "\n",
    "    Y_preds_in = second_learner.query(trainX)\n",
    "    Y_preds_out = second_learner.query(testX)\n",
    "    in_second_RMSE[j] = math.sqrt(((trainY - Y_preds_in) ** 2).mean())\n",
    "    out_second_RMSE[j] = math.sqrt(((testY - Y_preds_out) ** 2).mean())\n",
    "\n",
    "\n",
    "    j+=1"
   ]
  },
  {
   "cell_type": "code",
   "execution_count": 20,
   "metadata": {
    "collapsed": false
   },
   "outputs": [
    {
     "data": {
      "image/png": "[encoded data removed]",
      "text/plain": [
       "<matplotlib.figure.Figure at 0x109cf7990>"
      ]
     },
     "metadata": {},
     "output_type": "display_data"
    }
   ],
   "source": [
    "plt.plot(leaves, in_second_RMSE,  label='In-Sample')\n",
    "plt.plot(leaves, out_second_RMSE,  label='Out-Sample')\n",
    "plt.title(\"Assessing Overfitting with BagLearner of 20 DTLearners\")\n",
    "plt.ylabel('RMSE')\n",
    "plt.xlabel('Leaf Size')\n",
    "plt.legend(loc=\"lower right\")\n",
    "plt.show()"
   ]
  },
  {
   "cell_type": "code",
   "execution_count": 40,
   "metadata": {
    "collapsed": true
   },
   "outputs": [],
   "source": [
    "df3=pd.DataFrame(leaves, columns=['Leaf_size'])\n",
    "df4=pd.DataFrame(in_second_RMSE, columns=['In-Sample RMSE'])\n",
    "df5=pd.DataFrame(out_second_RMSE, columns=['Out-Sample RMSE'])\n",
    "frames1=[df3,df4, df5]\n",
    "result1=pd.concat(frames1, axis=1)"
   ]
  },
  {
   "cell_type": "markdown",
   "metadata": {},
   "source": [
    "Bagging reduces overfitting with respect to leaf_size. We tested 20 bags of DT Learners against the Istanbul.csv dataset, while varying the leaf_size. \n",
    "\n",
    "Creating an ensemble learner resulted in lower errors than just training a single Decision Tree Learner. 0.005801 was the lowest RMSE while training on ensemble learners, while 0.006930 was the lowest RMSE when trained on a single Decision Tree. The Ensemble of learners typically does not overfit as much as any individual learner by itself. \n",
    "\n",
    "Each kind of learner that an own intrinsic bias. But when put together, they tend to reduce the individual biases. "
   ]
  },
  {
   "cell_type": "code",
   "execution_count": 41,
   "metadata": {
    "collapsed": false
   },
   "outputs": [
    {
     "name": "stdout",
     "output_type": "stream",
     "text": [
      "    Leaf_size  In-Sample RMSE  Out-Sample RMSE\n",
      "0           0        0.002552         0.006127\n",
      "1           1        0.002619         0.006035\n",
      "2           2        0.002805         0.005868\n",
      "3           3        0.002980         0.005974\n",
      "4           4        0.003262         0.005801\n",
      "5           5        0.003670         0.005871\n",
      "6           6        0.003982         0.005923\n",
      "7           7        0.003988         0.005866\n",
      "8           8        0.004050         0.005948\n",
      "9           9        0.004187         0.006011\n",
      "10         10        0.004528         0.006183\n",
      "11         11        0.004711         0.005985\n",
      "12         12        0.004787         0.006174\n",
      "13         13        0.004816         0.005882\n",
      "14         14        0.004812         0.006114\n",
      "15         15        0.004830         0.005945\n",
      "16         16        0.004919         0.006166\n",
      "17         17        0.004934         0.006143\n",
      "18         18        0.005023         0.006236\n",
      "19         19        0.005167         0.006498\n"
     ]
    }
   ],
   "source": [
    "print result1[:20]"
   ]
  },
  {
   "cell_type": "code",
   "execution_count": 52,
   "metadata": {
    "collapsed": true
   },
   "outputs": [],
   "source": [
    "k=0\n",
    "in_third_RMSE=np.ones(len(leaves))\n",
    "out_third_RMSE=np.ones(len(leaves))\n",
    "\n",
    "for leaf_size in leaves:\n",
    "    third_learner = rt.RTLearner(leaf_size=leaf_size, verbose = False)\n",
    "    third_learner.addEvidence(trainX, trainY)\n",
    "    Y_preds_in = third_learner.query(trainX)\n",
    "    Y_preds_out = third_learner.query(testX)\n",
    "    in_third_RMSE[k] = math.sqrt(((trainY - Y_preds_in) ** 2).mean())\n",
    "    out_third_RMSE[k] = math.sqrt(((testY - Y_preds_out) ** 2).mean())\n",
    "\n",
    "    k+=1"
   ]
  },
  {
   "cell_type": "code",
   "execution_count": 57,
   "metadata": {
    "collapsed": false
   },
   "outputs": [
    {
     "data": {
      "image/png": "[encoded data removed]",
      "text/plain": [
       "<matplotlib.figure.Figure at 0x114fb2550>"
      ]
     },
     "metadata": {},
     "output_type": "display_data"
    }
   ],
   "source": [
    "plt.plot(leaves, in_third_RMSE,  label='In-Sample')\n",
    "plt.plot(leaves, out_third_RMSE,  label='Out-Sample')\n",
    "plt.title(\"Assessing Overfitting with Random Tree Learner\")\n",
    "plt.ylabel('RMSE')\n",
    "plt.xlabel('Leaf Size')\n",
    "plt.legend(loc=\"lower right\")\n",
    "plt.show()"
   ]
  },
  {
   "cell_type": "code",
   "execution_count": 54,
   "metadata": {
    "collapsed": false
   },
   "outputs": [],
   "source": [
    "df6=pd.DataFrame(leaves, columns=['Leaf_size'])\n",
    "df7=pd.DataFrame(in_third_RMSE, columns=['In-Sample RMSE'])\n",
    "df8=pd.DataFrame(out_third_RMSE, columns=['Out-Sample RMSE'])\n",
    "\n",
    "frames2=[df6,df7,df8]\n",
    "result2=pd.concat(frames2, axis=1)"
   ]
  },
  {
   "cell_type": "code",
   "execution_count": 55,
   "metadata": {
    "collapsed": false
   },
   "outputs": [
    {
     "name": "stdout",
     "output_type": "stream",
     "text": [
      "    Leaf_size  In-Sample RMSE  Out-Sample RMSE\n",
      "0           0        0.000133         0.009120\n",
      "1           1        0.000000         0.009059\n",
      "2           2        0.004080         0.008246\n",
      "3           3        0.004815         0.008180\n",
      "4           4        0.005179         0.008530\n",
      "5           5        0.005557         0.007741\n",
      "6           6        0.005705         0.007531\n",
      "7           7        0.006135         0.007582\n",
      "8           8        0.006035         0.007661\n",
      "9           9        0.005912         0.007578\n",
      "10         10        0.006579         0.008201\n",
      "11         11        0.007139         0.008367\n",
      "12         12        0.006650         0.007407\n",
      "13         13        0.006300         0.008065\n",
      "14         14        0.006717         0.008109\n",
      "15         15        0.006439         0.006749\n",
      "16         16        0.006523         0.007622\n",
      "17         17        0.006767         0.008063\n",
      "18         18        0.006805         0.008204\n",
      "19         19        0.006444         0.008180\n",
      "20         20        0.006680         0.008020\n",
      "21         21        0.007146         0.008109\n",
      "22         22        0.007006         0.008684\n",
      "23         23        0.007340         0.007873\n",
      "24         24        0.006878         0.008088\n",
      "25         25        0.007051         0.008893\n",
      "26         26        0.006510         0.008032\n",
      "27         27        0.006672         0.007944\n",
      "28         28        0.007391         0.008672\n",
      "29         29        0.007026         0.008095\n"
     ]
    }
   ],
   "source": [
    "print result2[:30]"
   ]
  },
  {
   "cell_type": "markdown",
   "metadata": {},
   "source": [
    "* Quantitatively compare \"classic\" decision trees (DTLearner) versus random trees (RTLearner). In which ways is one method better than the other?"
   ]
  },
  {
   "cell_type": "markdown",
   "metadata": {},
   "source": [
    "Decision tree learners \n",
    "Random tree learners 0.007496\n",
    "\n",
    "-Compare 2 quantitative properties"
   ]
  }
 ],
 "metadata": {
  "kernelspec": {
   "display_name": "Python 2",
   "language": "python",
   "name": "python2"
  },
  "language_info": {
   "codemirror_mode": {
    "name": "ipython",
    "version": 2
   },
   "file_extension": ".py",
   "mimetype": "text/x-python",
   "name": "python",
   "nbconvert_exporter": "python",
   "pygments_lexer": "ipython2",
   "version": "2.7.10"
  }
 },
 "nbformat": 4,
 "nbformat_minor": 0
}
